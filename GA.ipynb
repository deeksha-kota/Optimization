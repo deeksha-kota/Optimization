{
 "cells": [
  {
   "attachments": {},
   "cell_type": "markdown",
   "metadata": {},
   "source": [
    "# Genetic Algorithm"
   ]
  },
  {
   "attachments": {},
   "cell_type": "markdown",
   "metadata": {},
   "source": [
    "The `genetic_algorithm` function takes the following arguments:\n",
    "\n",
    " `population_size`: the number of individuals in the population\n",
    " `generations`: the number of generations to run the algorithm for\n",
    " `LF` is the load factor\n",
    " `LF_lim` is the load factor limit\n",
    " `THS` is the trimmable horizontal stabilizer position\n",
    " `THS_trim` is the neutral position of the elevators\n",
    " `THS_range` is the total range of THS positions\n",
    " `V` is the airspeed\n",
    " `V_stab` is the stabilized airspeed\n",
    " `V_range` is the range of airspeed values\n",
    " `elevator_sat_time` is the elevator saturation time\n",
    " `w1` through `w3` are weighting factors assigned to each criterion.\n",
    "\n",
    "\n",
    " objective function\n",
    " - f = w1*(abs(LF-LF_lim)/LF_lim) + w2*(abs(THS-THS_trim)/THS_range) + w3*(abs(V-V_stab)/V_range) \n",
    "\n",
    "\n",
    " minimize cost\n",
    " - cost = 1/f"
   ]
  },
  {
   "cell_type": "code",
   "execution_count": 36,
   "metadata": {},
   "outputs": [],
   "source": [
    "import random\n",
    "import matplotlib.pyplot as plt\n",
    "import numpy as np\n",
    "from mpl_toolkits import mplot3d"
   ]
  },
  {
   "cell_type": "code",
   "execution_count": 37,
   "metadata": {},
   "outputs": [],
   "source": [
    "# Define the objective function\n",
    "def objective(LF, LF_lim, THS, THS_trim, THS_range, V, V_stab, V_range, w1, w2, w3):\n",
    "    return w1*abs((LF-LF_lim)/LF_lim) + w2*abs((THS-THS_trim)/THS_range) + w3*abs((V-V_stab)/V_range) "
   ]
  },
  {
   "cell_type": "code",
   "execution_count": 38,
   "metadata": {},
   "outputs": [],
   "source": [
    "# Define the cost function\n",
    "def calculate_cost(population, LF, LF_lim, THS, THS_trim, THS_range, V, V_stab, V_range):\n",
    "    costs = []\n",
    "    for p in population:\n",
    "        w1, w2, w3 = p\n",
    "        f = objective(LF, LF_lim, THS, THS_trim, THS_range, V, V_stab, V_range, w1, w2, w3)\n",
    "        costs.append(1/(f + 1e-10)) # Add a small constant to avoid division by zero\n",
    "    return costs"
   ]
  },
  {
   "cell_type": "code",
   "execution_count": 39,
   "metadata": {},
   "outputs": [],
   "source": [
    "# Define the genetic algorithm\n",
    "def genetic_algorithm(population_size, generations, LF, LF_lim, THS, THS_trim, THS_range, V, V_stab, V_range):\n",
    "    # Define the initial population\n",
    "    population = []\n",
    "    for i in range(population_size):\n",
    "        w1 = random.uniform(0, 1)\n",
    "        w2 = random.uniform(0, 1)\n",
    "        w3 = random.uniform(0, 1)\n",
    "        population.append([w1, w2, w3])\n",
    "\n",
    "    # Run the genetic algorithm for the defined number of generations\n",
    "    for i in range(generations):\n",
    "        # Evaluate the cost of the population\n",
    "        costs = calculate_cost(population, LF, LF_lim, THS, THS_trim, THS_range, V, V_stab, V_range)\n",
    "\n",
    "        # Select parents for crossover\n",
    "        parents = []\n",
    "        for j in range(population_size):\n",
    "            parent1 = population[random.randint(0, population_size-1)]\n",
    "            parent2 = population[random.randint(0, population_size-1)]\n",
    "            if costs[population.index(parent1)] < costs[population.index(parent2)]:\n",
    "                parents.append(parent1)\n",
    "            else:\n",
    "                parents.append(parent2)\n",
    "\n",
    "        # Create new population through crossover and mutation\n",
    "        new_population = []\n",
    "        for j in range(population_size):\n",
    "            parent1 = parents[random.randint(0, population_size-1)]\n",
    "            parent2 = parents[random.randint(0, population_size-1)]\n",
    "            child = []\n",
    "            for k in range(len(parent1)):\n",
    "                if random.random() < 0.5:\n",
    "                    child.append(parent1[k])\n",
    "                else:\n",
    "                    child.append(parent2[k])\n",
    "            for k in range(len(child)):\n",
    "                if random.random() < 0.1:\n",
    "                    child[k] = random.uniform(0, 1)\n",
    "            new_population.append(child)\n",
    "\n",
    "        # Replace the old population with the new population\n",
    "        population = new_population\n",
    "\n",
    "    # Evaluate the cost of the final population\n",
    "    costs = calculate_cost(population, LF, LF_lim, THS, THS_trim, THS_range, V, V_stab, V_range)\n",
    "\n",
    "    # Return the weighting factors that result in the lowest cost\n",
    "    best_weights = population[costs.index(min(costs))]\n",
    "    return best_weights\n"
   ]
  },
  {
   "cell_type": "code",
   "execution_count": 40,
   "metadata": {},
   "outputs": [],
   "source": [
    "# Set the input parameters\n",
    "population_size = 200\n",
    "generations = 100\n",
    "#LF = -1.1\n",
    "LF_lim = -1.0\n",
    "#THS = 0.5\n",
    "THS_trim = 0.0\n",
    "THS_range = 1.0\n",
    "#V = 350.0\n",
    "V_stab = 350.0\n",
    "V_range = 100.0\n"
   ]
  },
  {
   "cell_type": "code",
   "execution_count": 49,
   "metadata": {},
   "outputs": [
    {
     "name": "stdout",
     "output_type": "stream",
     "text": [
      "[[-1.5, -1.0, 300.0], [-1.5, -1.0, 330.0], [-1.5, -1.0, 360.0], [-1.5, -1.0, 390.0], [-1.5, -1.0, 420.0], [-1.5, -0.5, 300.0], [-1.5, -0.5, 330.0], [-1.5, -0.5, 360.0], [-1.5, -0.5, 390.0], [-1.5, -0.5, 420.0], [-1.5, 0.0, 300.0], [-1.5, 0.0, 330.0], [-1.5, 0.0, 360.0], [-1.5, 0.0, 390.0], [-1.5, 0.0, 420.0], [-1.5, 0.5, 300.0], [-1.5, 0.5, 330.0], [-1.5, 0.5, 360.0], [-1.5, 0.5, 390.0], [-1.5, 0.5, 420.0], [-1.5, 1.0, 300.0], [-1.5, 1.0, 330.0], [-1.5, 1.0, 360.0], [-1.5, 1.0, 390.0], [-1.5, 1.0, 420.0], [-1.25, -1.0, 300.0], [-1.25, -1.0, 330.0], [-1.25, -1.0, 360.0], [-1.25, -1.0, 390.0], [-1.25, -1.0, 420.0], [-1.25, -0.5, 300.0], [-1.25, -0.5, 330.0], [-1.25, -0.5, 360.0], [-1.25, -0.5, 390.0], [-1.25, -0.5, 420.0], [-1.25, 0.0, 300.0], [-1.25, 0.0, 330.0], [-1.25, 0.0, 360.0], [-1.25, 0.0, 390.0], [-1.25, 0.0, 420.0], [-1.25, 0.5, 300.0], [-1.25, 0.5, 330.0], [-1.25, 0.5, 360.0], [-1.25, 0.5, 390.0], [-1.25, 0.5, 420.0], [-1.25, 1.0, 300.0], [-1.25, 1.0, 330.0], [-1.25, 1.0, 360.0], [-1.25, 1.0, 390.0], [-1.25, 1.0, 420.0], [-1.0, -1.0, 300.0], [-1.0, -1.0, 330.0], [-1.0, -1.0, 360.0], [-1.0, -1.0, 390.0], [-1.0, -1.0, 420.0], [-1.0, -0.5, 300.0], [-1.0, -0.5, 330.0], [-1.0, -0.5, 360.0], [-1.0, -0.5, 390.0], [-1.0, -0.5, 420.0], [-1.0, 0.0, 300.0], [-1.0, 0.0, 330.0], [-1.0, 0.0, 360.0], [-1.0, 0.0, 390.0], [-1.0, 0.0, 420.0], [-1.0, 0.5, 300.0], [-1.0, 0.5, 330.0], [-1.0, 0.5, 360.0], [-1.0, 0.5, 390.0], [-1.0, 0.5, 420.0], [-1.0, 1.0, 300.0], [-1.0, 1.0, 330.0], [-1.0, 1.0, 360.0], [-1.0, 1.0, 390.0], [-1.0, 1.0, 420.0], [-0.75, -1.0, 300.0], [-0.75, -1.0, 330.0], [-0.75, -1.0, 360.0], [-0.75, -1.0, 390.0], [-0.75, -1.0, 420.0], [-0.75, -0.5, 300.0], [-0.75, -0.5, 330.0], [-0.75, -0.5, 360.0], [-0.75, -0.5, 390.0], [-0.75, -0.5, 420.0], [-0.75, 0.0, 300.0], [-0.75, 0.0, 330.0], [-0.75, 0.0, 360.0], [-0.75, 0.0, 390.0], [-0.75, 0.0, 420.0], [-0.75, 0.5, 300.0], [-0.75, 0.5, 330.0], [-0.75, 0.5, 360.0], [-0.75, 0.5, 390.0], [-0.75, 0.5, 420.0], [-0.75, 1.0, 300.0], [-0.75, 1.0, 330.0], [-0.75, 1.0, 360.0], [-0.75, 1.0, 390.0], [-0.75, 1.0, 420.0], [-0.5, -1.0, 300.0], [-0.5, -1.0, 330.0], [-0.5, -1.0, 360.0], [-0.5, -1.0, 390.0], [-0.5, -1.0, 420.0], [-0.5, -0.5, 300.0], [-0.5, -0.5, 330.0], [-0.5, -0.5, 360.0], [-0.5, -0.5, 390.0], [-0.5, -0.5, 420.0], [-0.5, 0.0, 300.0], [-0.5, 0.0, 330.0], [-0.5, 0.0, 360.0], [-0.5, 0.0, 390.0], [-0.5, 0.0, 420.0], [-0.5, 0.5, 300.0], [-0.5, 0.5, 330.0], [-0.5, 0.5, 360.0], [-0.5, 0.5, 390.0], [-0.5, 0.5, 420.0], [-0.5, 1.0, 300.0], [-0.5, 1.0, 330.0], [-0.5, 1.0, 360.0], [-0.5, 1.0, 390.0], [-0.5, 1.0, 420.0]]\n"
     ]
    }
   ],
   "source": [
    "# Call the genetic algorithm function and store the costs\n",
    "costs = {}\n",
    "LF_bound = np.linspace(-1.5, -0.5, 5)\n",
    "THS_bound = np.linspace(-1.0, 1.0, 5)\n",
    "V_bound = np.linspace(300.0, 420.0, 5)\n",
    "\n",
    "grid = []\n",
    "for i in LF_bound:\n",
    "    for j in THS_bound:\n",
    "        for k in V_bound:\n",
    "            grid.append([i,j,k])\n",
    "print(grid)\n",
    "\n",
    "for ele in grid:\n",
    "    best_weights = genetic_algorithm(population_size, generations, ele[0] , LF_lim, ele[1], THS_trim, THS_range, ele[2], V_stab, V_range)\n",
    "    #Print the best weights\n",
    "    #print(\"Best weights: \", best_weights)\n",
    "    cost = 1/objective( ele[0] , LF_lim, ele[1], THS_trim, THS_range, ele[2], V_stab, V_range, *best_weights)\n",
    "    costs[cost] = ele\n",
    "#print(costs)"
   ]
  },
  {
   "cell_type": "code",
   "execution_count": 55,
   "metadata": {},
   "outputs": [
    {
     "ename": "TypeError",
     "evalue": "dict.values() takes no arguments (1 given)",
     "output_type": "error",
     "traceback": [
      "\u001b[1;31m---------------------------------------------------------------------------\u001b[0m",
      "\u001b[1;31mTypeError\u001b[0m                                 Traceback (most recent call last)",
      "Cell \u001b[1;32mIn[55], line 1\u001b[0m\n\u001b[1;32m----> 1\u001b[0m \u001b[39mprint\u001b[39m(costs\u001b[39m.\u001b[39;49mvalues(cost\u001b[39m>\u001b[39;49m\u001b[39m1\u001b[39;49m))\n\u001b[0;32m      2\u001b[0m \u001b[39mprint\u001b[39m(\u001b[39m\"\u001b[39m\u001b[39mplotting grid\u001b[39m\u001b[39m\"\u001b[39m)\n\u001b[0;32m      3\u001b[0m \u001b[39m# Plot the failure region\u001b[39;00m\n",
      "\u001b[1;31mTypeError\u001b[0m: dict.values() takes no arguments (1 given)"
     ]
    }
   ],
   "source": [
    "print(costs.values())\n",
    "print(\"plotting grid\")\n",
    "# Plot the failure region\n",
    "fig = plt.figure()\n",
    "ax = plt.axes(projection='3d')\n",
    "#ax.scatter(costs.values[], costs.values[1], costs.values[2], c=costs.keys, alpha=0.1)\n",
    "ax.set_xlabel('Load Factor')\n",
    "ax.set_ylabel('THS Position')\n",
    "ax.set_zlabel('Airspeed')\n",
    "ax.set_xlim(-1.5, -0.5)\n",
    "ax.set_ylim(-1.0, 1.0)\n",
    "ax.set_zlim(300.0, 420.0)\n",
    "plt.show()"
   ]
  },
  {
   "cell_type": "code",
   "execution_count": null,
   "metadata": {},
   "outputs": [],
   "source": [
    "print(\"plotting cost\")\n",
    "# Plot the costs\n",
    "plt.plot(costs.keys)\n",
    "plt.xlabel('Iteration')\n",
    "plt.ylabel('Cost')\n",
    "plt.title('Optimization Exploration')\n",
    "plt.show()"
   ]
  }
 ],
 "metadata": {
  "kernelspec": {
   "display_name": "Python 3",
   "language": "python",
   "name": "python3"
  },
  "language_info": {
   "codemirror_mode": {
    "name": "ipython",
    "version": 3
   },
   "file_extension": ".py",
   "mimetype": "text/x-python",
   "name": "python",
   "nbconvert_exporter": "python",
   "pygments_lexer": "ipython3",
   "version": "3.10.11"
  },
  "orig_nbformat": 4
 },
 "nbformat": 4,
 "nbformat_minor": 2
}
