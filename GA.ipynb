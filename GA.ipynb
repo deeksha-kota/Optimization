{
 "cells": [
  {
   "attachments": {},
   "cell_type": "markdown",
   "metadata": {},
   "source": [
    "# Genetic Algorithm"
   ]
  },
  {
   "attachments": {},
   "cell_type": "markdown",
   "metadata": {},
   "source": [
    "The `genetic_algorithm` function takes the following arguments:\n",
    "\n",
    " `population_size`: the number of individuals in the population\n",
    " `generations`: the number of generations to run the algorithm for\n",
    " `LF` is the load factor\n",
    " `LF_lim` is the load factor limit\n",
    " `THS` is the trimmable horizontal stabilizer position\n",
    " `THS_trim` is the neutral position of the elevators\n",
    " `THS_range` is the total range of THS positions\n",
    " `V` is the airspeed\n",
    " `V_stab` is the stabilized airspeed\n",
    " `V_range` is the range of airspeed values\n",
    " `elevator_sat_time` is the elevator saturation time\n",
    " `w1` through `w4` are weighting factors assigned to each criterion.\n",
    "\n",
    "\n",
    " objective function#\n",
    " f = w1*(abs(LF-LF_lim)/LF_lim) + w2*(abs(THS-THS_trim)/THS_range) + w3*(abs(V-V_stab)/V_range) + w4*(elevator_sat_time > 3s)\n",
    "\n",
    "\n",
    " minimize cost\n",
    " cost = 1/f"
   ]
  }
 ],
 "metadata": {
  "kernelspec": {
   "display_name": "Python 3",
   "language": "python",
   "name": "python3"
  },
  "language_info": {
   "codemirror_mode": {
    "name": "ipython",
    "version": 3
   },
   "file_extension": ".py",
   "mimetype": "text/x-python",
   "name": "python",
   "nbconvert_exporter": "python",
   "pygments_lexer": "ipython3",
   "version": "3.10.11"
  },
  "orig_nbformat": 4
 },
 "nbformat": 4,
 "nbformat_minor": 2
}
